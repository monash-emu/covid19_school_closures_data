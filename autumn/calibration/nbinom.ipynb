{
 "cells": [
  {
   "cell_type": "code",
   "execution_count": 5,
   "metadata": {},
   "outputs": [],
   "source": [
    "from scipy import stats\n",
    "import numpy as np"
   ]
  },
  {
   "cell_type": "code",
   "execution_count": 16,
   "metadata": {},
   "outputs": [],
   "source": [
    "n_steps = 70\n",
    "for n in np.linspace(5, 15, num=n_steps):\n",
    "    for mu in np.linspace(0.1, 1000, num=n_steps):\n",
    "        for data in np.linspace(0, 1000, num=n_steps):\n",
    "\n",
    "            p = mu / (mu + n)\n",
    "            ll = stats.nbinom.logpmf(round(data), n, 1.0 - p) \n",
    "\n",
    "            if ll == - np.inf:\n",
    "                print(f\"n={n} / mu={mu} / data={data}\")\n",
    "                print(ll)\n",
    "          \n"
   ]
  },
  {
   "cell_type": "code",
   "execution_count": null,
   "metadata": {},
   "outputs": [],
   "source": []
  }
 ],
 "metadata": {
  "kernelspec": {
   "display_name": "Python 3.10.3 ('autumn310')",
   "language": "python",
   "name": "python3"
  },
  "language_info": {
   "codemirror_mode": {
    "name": "ipython",
    "version": 3
   },
   "file_extension": ".py",
   "mimetype": "text/x-python",
   "name": "python",
   "nbconvert_exporter": "python",
   "pygments_lexer": "ipython3",
   "version": "3.10.3"
  },
  "orig_nbformat": 4,
  "vscode": {
   "interpreter": {
    "hash": "7afc08b952f75bca94590012dd49682c815a0fa68720c270ce23d7ae27bf110a"
   }
  }
 },
 "nbformat": 4,
 "nbformat_minor": 2
}
