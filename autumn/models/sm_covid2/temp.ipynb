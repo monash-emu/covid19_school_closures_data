{
 "cells": [
  {
   "cell_type": "code",
   "execution_count": 1,
   "metadata": {},
   "outputs": [],
   "source": [
    "from autumn.core.inputs.social_mixing.build_synthetic_matrices import get_matrices_from_conmat\n"
   ]
  },
  {
   "cell_type": "code",
   "execution_count": 4,
   "metadata": {},
   "outputs": [],
   "source": [
    "iso3 = \"FRA\"\n",
    "age_groups = [\"0\", \"15\", \"25\", \"50\", \"70\"]\n",
    "\n",
    "mixing_matrices = get_matrices_from_conmat(iso3, [int(age) for age in age_groups])\n"
   ]
  },
  {
   "cell_type": "code",
   "execution_count": null,
   "metadata": {},
   "outputs": [],
   "source": [
    "def scale_school_contacts(raw_matrices, school_multiplier):\n",
    "    adjusted_matrices = {}\n"
   ]
  },
  {
   "cell_type": "code",
   "execution_count": 5,
   "metadata": {},
   "outputs": [
    {
     "data": {
      "text/plain": [
       "{'home': array([[1.3885468 , 0.39379146, 1.75709585, 0.58863845, 0.17638384],\n",
       "        [0.5889973 , 0.89904782, 1.15875725, 0.67642678, 0.14678138],\n",
       "        [1.00627269, 0.44367575, 1.0870578 , 0.63825405, 0.21339591],\n",
       "        [0.40664964, 0.31242484, 0.76991913, 1.04867516, 0.32776906],\n",
       "        [0.20171254, 0.11222719, 0.42612792, 0.54258816, 0.59235584]]),\n",
       " 'other_locations': array([[2.56161742, 0.53518738, 1.21683541, 0.53747794, 0.17907794],\n",
       "        [0.8004844 , 3.15784247, 1.76279362, 0.64488232, 0.17397494],\n",
       "        [0.69687049, 0.67495481, 2.49166211, 1.2632691 , 0.27713194],\n",
       "        [0.37130638, 0.29785523, 1.5238682 , 1.81627089, 0.63095656],\n",
       "        [0.20479352, 0.13301904, 0.55340167, 1.04448405, 0.77159733]]),\n",
       " 'school': array([[4.62762751e+00, 2.53756401e-01, 6.21531152e-01, 2.65685147e-01,\n",
       "         8.26929847e-03],\n",
       "        [3.78992442e-01, 3.42037391e+00, 5.12853881e-01, 1.90567494e-01,\n",
       "         1.89682232e-03],\n",
       "        [3.55945195e-01, 1.96365690e-01, 2.36846636e-01, 7.16096073e-02,\n",
       "         2.05897780e-03],\n",
       "        [1.83543514e-01, 8.80184224e-02, 8.63820385e-02, 6.71154289e-02,\n",
       "         8.32755515e-03],\n",
       "        [9.45676916e-03, 1.45028636e-03, 4.11154976e-03, 1.37850969e-02,\n",
       "         4.91009265e-03]]),\n",
       " 'work': array([[0.01851226, 0.03912359, 0.1914125 , 0.07119587, 0.00412902],\n",
       "        [0.05851749, 0.41949856, 1.04464836, 0.37583412, 0.04244005],\n",
       "        [0.10962019, 0.39998467, 2.78797388, 0.97890949, 0.15577806],\n",
       "        [0.04918431, 0.1735885 , 1.1808482 , 0.70524605, 0.12047395],\n",
       "        [0.00472195, 0.03244912, 0.31107147, 0.1994323 , 0.01791839]]),\n",
       " 'all_locations': array([[8.59630399, 1.22185883, 3.78687491, 1.46299741, 0.3678601 ],\n",
       "        [1.82699164, 7.89676276, 4.47905312, 1.88771072, 0.36509319],\n",
       "        [2.16870856, 1.71498092, 6.60354042, 2.95204224, 0.64836489],\n",
       "        [1.01068384, 0.871887  , 3.56101757, 3.63730753, 1.08752713],\n",
       "        [0.42068479, 0.27914564, 1.29471262, 1.80028961, 1.38678166]])}"
      ]
     },
     "execution_count": 5,
     "metadata": {},
     "output_type": "execute_result"
    }
   ],
   "source": [
    "mixing_matrices"
   ]
  },
  {
   "cell_type": "code",
   "execution_count": null,
   "metadata": {},
   "outputs": [],
   "source": []
  }
 ],
 "metadata": {
  "kernelspec": {
   "display_name": "autumn310",
   "language": "python",
   "name": "python3"
  },
  "language_info": {
   "codemirror_mode": {
    "name": "ipython",
    "version": 3
   },
   "file_extension": ".py",
   "mimetype": "text/x-python",
   "name": "python",
   "nbconvert_exporter": "python",
   "pygments_lexer": "ipython3",
   "version": "3.10.3"
  },
  "orig_nbformat": 4,
  "vscode": {
   "interpreter": {
    "hash": "7afc08b952f75bca94590012dd49682c815a0fa68720c270ce23d7ae27bf110a"
   }
  }
 },
 "nbformat": 4,
 "nbformat_minor": 2
}
