{
 "cells": [
  {
   "cell_type": "markdown",
   "metadata": {},
   "source": [
    "## Imports"
   ]
  },
  {
   "cell_type": "code",
   "execution_count": null,
   "metadata": {},
   "outputs": [],
   "source": [
    "try:\n",
    "    import google.colab\n",
    "    IN_COLAB = True\n",
    "\n",
    "except:\n",
    "    IN_COLAB = False"
   ]
  },
  {
   "cell_type": "code",
   "execution_count": null,
   "metadata": {},
   "outputs": [],
   "source": [
    "from IPython.display import display\n",
    "import pandas as pd\n",
    "import pickle\n",
    "from pathlib import Path\n",
    "\n",
    "if IN_COLAB:\n",
    "    !wget https://raw.githubusercontent.com/monash-emu/covid19_school_closures/main/output_exploration/exploration_tools.py\n",
    "    !wget https://raw.githubusercontent.com/monash-emu/covid19_school_closures/main/output_exploration/included_countries.pickle\n",
    "   \n",
    "else:\n",
    "    from autumn.projects.sm_covid2.common_school.output_plots import country_highlight as ch\n",
    "\n",
    "import exploration_tools as et\n",
    "pd.options.plotting.backend = \"plotly\"\n",
    "\n",
    "file = open('included_countries.pickle', 'rb')\n",
    "included_countries = pickle.load(file)"
   ]
  },
  {
   "cell_type": "markdown",
   "metadata": {},
   "source": [
    "## Select country and analysis"
   ]
  },
  {
   "cell_type": "code",
   "execution_count": null,
   "metadata": {},
   "outputs": [],
   "source": [
    "iso3_widget, analysis_widget = et.get_analysis_widgets(included_countries)\n",
    "display(iso3_widget, analysis_widget)"
   ]
  },
  {
   "cell_type": "markdown",
   "metadata": {},
   "source": [
    "## Load output data for selected analysis"
   ]
  },
  {
   "cell_type": "code",
   "execution_count": null,
   "metadata": {},
   "outputs": [],
   "source": [
    "if IN_COLAB:\n",
    "  folder_path_str = f\"https://raw.githubusercontent.com/monash-emu/covid19_school_closures/main/output_exploration/{analysis_widget.value}/{iso3_widget.value}/\" \n",
    "\n",
    "  for f in [\"diff_quantiles_df.parquet\", \"derived_outputs.pickle\", \"uncertainty_df_baseline.parquet\", \"uncertainty_df_scenario_1.parquet\"]:\n",
    "    !wget {folder_path_str}{f} >/dev/null 2>&1\n",
    "\n",
    "folder_path = Path(\"\") if IN_COLAB else Path.cwd() / analysis_widget.value / iso3_widget.value\n",
    "uncertainty_dfs, diff_quantiles_df, derived_outputs = et.load_analysis_outputs(folder_path)"
   ]
  },
  {
   "cell_type": "markdown",
   "metadata": {},
   "source": [
    "## Relative outcomes\n",
    "\n",
    "* Positive values indicate a positive effect of school closures on the relevant indicator.\n",
    "* Negative values indicate that school closures exacerbated the relevant COVID-19 indicator."
   ]
  },
  {
   "cell_type": "code",
   "execution_count": null,
   "metadata": {},
   "outputs": [],
   "source": [
    "df = et.get_diff_quantiles_table(diff_quantiles_df)\n",
    "df"
   ]
  },
  {
   "cell_type": "markdown",
   "metadata": {},
   "source": [
    "## Selected model output timeseries "
   ]
  },
  {
   "cell_type": "code",
   "execution_count": null,
   "metadata": {},
   "outputs": [],
   "source": [
    "output_widget = et.get_derived_output_widget()\n",
    "display(output_widget)"
   ]
  },
  {
   "cell_type": "markdown",
   "metadata": {},
   "source": [
    "### Outputs obtained with maximum a-posteriori parameter set"
   ]
  },
  {
   "cell_type": "code",
   "execution_count": null,
   "metadata": {},
   "outputs": [],
   "source": [
    "pd.options.plotting.backend = 'plotly'\n",
    "et.plot_derived_outputs(derived_outputs, output_widget.value, included_countries[iso3_widget.value], analysis_widget.value)"
   ]
  },
  {
   "cell_type": "markdown",
   "metadata": {},
   "source": [
    "### Uncertainty percentiles associated with 1000 samples from the posterior distribution "
   ]
  },
  {
   "cell_type": "code",
   "execution_count": null,
   "metadata": {},
   "outputs": [],
   "source": [
    "pd.options.plotting.backend = 'plotly'\n",
    "et.plot_uncertainty(uncertainty_dfs, output_widget.value, included_countries[iso3_widget.value], analysis_widget.value)"
   ]
  }
 ],
 "metadata": {
  "kernelspec": {
   "display_name": "summer2",
   "language": "python",
   "name": "python3"
  },
  "language_info": {
   "codemirror_mode": {
    "name": "ipython",
    "version": 3
   },
   "file_extension": ".py",
   "mimetype": "text/x-python",
   "name": "python",
   "nbconvert_exporter": "python",
   "pygments_lexer": "ipython3",
   "version": "3.10.11"
  }
 },
 "nbformat": 4,
 "nbformat_minor": 2
}
