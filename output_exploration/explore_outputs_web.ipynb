{
 "cells": [
  {
   "cell_type": "markdown",
   "metadata": {},
   "source": [
    "## Imports"
   ]
  },
  {
   "cell_type": "code",
   "execution_count": null,
   "metadata": {},
   "outputs": [],
   "source": [
    "from IPython.display import display\n",
    "import pandas as pd\n",
    "import pickle\n",
    "from pathlib import Path\n",
    "\n",
    "from autumn.projects.sm_covid2.common_school.output_plots import country_highlight as ch\n",
    "\n",
    "import exploration_tools as et\n",
    "pd.options.plotting.backend = \"plotly\"\n",
    "\n",
    "file = open('included_countries.pickle', 'rb')\n",
    "included_countries = pickle.load(file)"
   ]
  },
  {
   "cell_type": "markdown",
   "metadata": {},
   "source": [
    "## Select country and analysis"
   ]
  },
  {
   "cell_type": "code",
   "execution_count": null,
   "metadata": {},
   "outputs": [],
   "source": [
    "iso3_widget, analysis_widget = et.get_analysis_widgets(included_countries)\n",
    "display(iso3_widget, analysis_widget)"
   ]
  },
  {
   "cell_type": "markdown",
   "metadata": {},
   "source": [
    "## Load output data for selected analysis"
   ]
  },
  {
   "cell_type": "code",
   "execution_count": null,
   "metadata": {},
   "outputs": [],
   "source": [
    "ANALYSIS = analysis_widget.value\n",
    "ANALYSIS_DESC = analysis_widget.label\n",
    "\n",
    "ISO3 = iso3_widget.value\n",
    "COUNTRY = iso3_widget.label"
   ]
  },
  {
   "cell_type": "code",
   "execution_count": null,
   "metadata": {},
   "outputs": [],
   "source": [
    "folder_path = Path.cwd() / ANALYSIS / ISO3\n",
    "uncertainty_dfs, diff_quantiles_df, derived_outputs = et.load_analysis_outputs(folder_path)"
   ]
  },
  {
   "cell_type": "code",
   "execution_count": null,
   "metadata": {},
   "outputs": [],
   "source": [
    "do_names = {\n",
    "    'incidence': 'COVID-19 incidence',\n",
    "    'cumulative_incidence': 'Cumulative COVID-19 incidence',\n",
    "    'hospital_occupancy': 'Hospital occupancy indicator',\n",
    "    'infection_deaths': 'COVID-19 mortality',\n",
    "    'cumulative_infection_deaths': 'Cumulative COVID-19 mortality',\n",
    "  \n",
    "    'ever_infected': 'Cumulative SARS-CoV-2 infections',\n",
    "    'prop_ever_infected': 'Proportion ever infected with SARS-CoV-2',\n",
    "  \n",
    "    'incidenceXagegroup_0': 'COVID-19 incidence (age 0-14)', \n",
    "    'incidenceXagegroup_15': 'COVID-19 incidence (age 15-24)',\n",
    "    'incidenceXagegroup_25': 'COVID-19 incidence (age 25-49)', \n",
    "    'incidenceXagegroup_50': 'COVID-19 incidence (age 50-69)',\n",
    "    'incidenceXagegroup_70': 'COVID-19 incidence (age 70 and above)',\n",
    "   \n",
    "    'cumulative_incidenceXstrain_delta': 'Cumulative incidence (Delta variant)',\n",
    "    'cumulative_incidenceXstrain_omicron': 'Cumulative incidence (Omicron variant)',\n",
    "    'cumulative_incidenceXstrain_wild_type': 'Cumulative incidence (Wild-type virus)',\n",
    "    \n",
    "    'prop_immune_vaccinated': 'Proportion fully vaccinated', \n",
    "    'prop_immune_unvaccinated': 'Proportion unvaccinated',\n",
    "    \n",
    "    'transformed_random_process': 'Random-process-based transmission adjustment',\n",
    "}"
   ]
  },
  {
   "cell_type": "code",
   "execution_count": null,
   "metadata": {},
   "outputs": [],
   "source": [
    "for sc in ['baseline', 'scenario_1']:\n",
    "    derived_outputs[sc] = derived_outputs[sc][list(do_names.keys())]\n",
    "    uncertainty_dfs[sc] = uncertainty_dfs[sc].iloc[:, uncertainty_dfs[sc].columns.get_level_values(0).isin(list(do_names.keys()))]\n"
   ]
  },
  {
   "cell_type": "markdown",
   "metadata": {},
   "source": [
    "## Relative outcomes\n",
    "\n",
    "* Positive values indicate a positive effect of school closures on the relevant indicator.\n",
    "* Negative values indicate that school closures exacerbated the relevant COVID-19 indicator."
   ]
  },
  {
   "cell_type": "code",
   "execution_count": null,
   "metadata": {},
   "outputs": [],
   "source": [
    "reldf = et.get_diff_quantiles_table(diff_quantiles_df)\n",
    "#reldf"
   ]
  },
  {
   "cell_type": "markdown",
   "metadata": {},
   "source": [
    "## Selected model output timeseries "
   ]
  },
  {
   "cell_type": "code",
   "execution_count": null,
   "metadata": {},
   "outputs": [],
   "source": [
    "bdf = derived_outputs[\"baseline\"].round(decimals=4)\n",
    "sdf = derived_outputs[\"scenario_1\"].round(decimals=4)"
   ]
  },
  {
   "cell_type": "code",
   "execution_count": null,
   "metadata": {},
   "outputs": [],
   "source": [
    "from plotly.subplots import make_subplots"
   ]
  },
  {
   "cell_type": "code",
   "execution_count": null,
   "metadata": {},
   "outputs": [],
   "source": [
    "ANALYSIS_DESC"
   ]
  },
  {
   "cell_type": "code",
   "execution_count": null,
   "metadata": {},
   "outputs": [],
   "source": [
    "cols = derived_outputs[\"baseline\"].columns\n",
    "\n",
    "DX_1DAY = 24*60*60*1000\n",
    "\n",
    "output = \"incidence\"\n",
    "\n",
    "#fig = go.Figure()\n",
    "fig = make_subplots(rows=3, cols=1, shared_xaxes=True,subplot_titles=(\"MLE Comparison\",\"Historical uncertainty\",\"Counterfactual (schools open) uncertainty\"))\n",
    "fig.add_scatter(x0=sdf.index[0], dx=DX_1DAY, y=bdf[output], mode='lines', name=\"Historical\",row=1,col=1)\n",
    "fig.add_scatter(x0=sdf.index[0], dx=DX_1DAY, y=sdf[output], mode='lines', name=\"Counterfactual (schools open)\",row=1,col=1)\n",
    "\n",
    "ubdf = uncertainty_dfs[\"baseline\"].round(decimals=4)\n",
    "usdf = uncertainty_dfs[\"scenario_1\"].round(decimals=4)\n",
    "\n",
    "for sc in uncertainty_dfs:\n",
    "    df = uncertainty_dfs[sc][output]\n",
    "\n",
    "    if sc == 'baseline':\n",
    "        light_shade = \"lightskyblue\"\n",
    "        dark_shade = \"cornflowerblue\"\n",
    "        urow = 2\n",
    "    else:\n",
    "        light_shade = \"pink\"\n",
    "        dark_shade = \"coral\"\n",
    "        urow = 3\n",
    "        \n",
    "    colour_map = {\n",
    "        \"0.025\": light_shade,\n",
    "        \"0.25\": dark_shade,\n",
    "        \"0.5\": \"black\",\n",
    "        \"0.75\": dark_shade,\n",
    "        \"0.975\": light_shade\n",
    "    }\n",
    "\n",
    "    fig.add_scatter(x0=df.index[0], dx=DX_1DAY, y = df['0.025'],\n",
    "                                line = dict(width=0, color=light_shade),\n",
    "                                #fill='tonexty', \n",
    "                                #fillcolor =light_shade,\n",
    "                                showlegend=False,\n",
    "                                name='95% CI',\n",
    "                                #hoverinfo='skip',\n",
    "                                row=urow,col=1)\n",
    "\n",
    "    fig.add_scatter(x0=df.index[0], dx=DX_1DAY, y = df['0.25'],\n",
    "                                line = dict(width=0, color=dark_shade),\n",
    "                                fill='tonexty',\n",
    "                                fillcolor =light_shade,\n",
    "                                name=\"25%\",\n",
    "                                showlegend=False,\n",
    "                                #hoverinfo='skip',\n",
    "                                row=urow,col=1)\n",
    "\n",
    "    fig.add_scatter(x0=df.index[0], dx=DX_1DAY, y = df['0.75'],\n",
    "                                line = dict(width=0, color=dark_shade),\n",
    "                                fill='tonexty', \n",
    "                                fillcolor =dark_shade,\n",
    "                                showlegend=False,\n",
    "                                name=\"75%\",\n",
    "                                row=urow,col=1\n",
    "                                )\n",
    "\n",
    "    fig.add_scatter(x0=df.index[0], dx=DX_1DAY, y = df['0.975'],\n",
    "                                line = dict(width=0, color=light_shade),\n",
    "                                fill='tonexty', \n",
    "                                fillcolor =light_shade,\n",
    "                                showlegend=False,\n",
    "                                name='95% CI',\n",
    "                                row=urow,col=1\n",
    "                                )\n",
    "\n",
    "    fig.add_scatter(x0=df.index[0], dx=DX_1DAY, y = df['0.5'],\n",
    "                                line = dict(width=2, color=\"black\"),\n",
    "                                name=\"median\",\n",
    "                                showlegend=False,\n",
    "                                row=urow,col=1\n",
    "                            )\n",
    "\n",
    "\n",
    "#The trace restyling  to be performed at an option selection in the first/second dropdown menu\n",
    "# is defined within  buttons1/buttons2 below:\n",
    "\n",
    "buttons1 = [dict(method = \"restyle\",\n",
    "                 args = [{'y': [bdf[cols[k]], sdf[cols[k]]] + [ubdf[cols[k]][q] for q in ubdf[\"incidence\"].columns] + [ubdf[cols[k]][q] for q in [\"0.025\",\"0.25\",\"0.75\",\"0.5\"]] +\n",
    "                          [usdf[cols[k]][q] for q in usdf[\"incidence\"].columns] + [usdf[cols[k]][q] for q in [\"0.025\",\"0.25\",\"0.75\",\"0.5\"]],\n",
    "                          #'x': [sdf.index] * 20,\n",
    "                          'visible': [True] * 20}], \n",
    "                 label = do_names[cols[k]])   for k in range(len(cols))]\n",
    "\n",
    "buttons1 = [dict(method = \"restyle\",\n",
    "                 args = [{'y': [bdf[cols[k]], sdf[cols[k]]] + [ubdf[cols[k]][q] for q in [\"0.025\",\"0.25\",\"0.75\",\"0.975\", \"0.5\"]] +\n",
    "                           [usdf[cols[k]][q] for q in [\"0.025\",\"0.25\",\"0.75\",\"0.975\", \"0.5\"]],\n",
    "                          #'x': [sdf.index] * 12,\n",
    "                          'visible': [True] * 12}], \n",
    "                 label = do_names[cols[k]])   for k in range(len(cols))]\n",
    "\n",
    "\n",
    "button_layer_1_height = 1.08\n",
    "\n",
    "fig.update_layout(width=1200,\n",
    "                  height=800,\n",
    "                  #title=COUNTRY,\n",
    "                 \n",
    "                  updatemenus=[dict(active=0,\n",
    "                                    buttons=buttons1,\n",
    "                                                    direction=\"down\",\n",
    "                pad={\"r\": 0, \"t\": 20, \"b\": 0.0},\n",
    "                showactive=True,\n",
    "                x=0.0,\n",
    "                xanchor=\"left\",\n",
    "                y=1.08,#button_layer_1_height,\n",
    "                yanchor=\"top\")]\n",
    ")\n",
    "\n",
    "fig.update_layout(xaxis_showticklabels=True, xaxis2_showticklabels=True)\n",
    "\n",
    "fig.update_layout(legend=dict(\n",
    "    orientation=\"h\",\n",
    "    yanchor=\"bottom\",\n",
    "    y=1.02,\n",
    "    xanchor=\"right\",\n",
    "    x=1\n",
    "))\n",
    "\n",
    "#with open(f\"{ISO3}.html\",\"w\") as f:\n",
    "#    fig.write_html(f, include_plotlyjs=\"cdn\")\n"
   ]
  },
  {
   "cell_type": "code",
   "execution_count": null,
   "metadata": {},
   "outputs": [],
   "source": [
    "import plotly.express as px\n",
    "from jinja2 import Template\n",
    "\n",
    "output_html_path=f\"{ISO3}_{ANALYSIS}.html\"\n",
    "input_template_path = \"template.html\"\n",
    "\n",
    "plotly_jinja_data = {\"fig\":fig.to_html(full_html=False, include_plotlyjs=\"cdn\"), \"table\": reldf.to_html(), \"country\": COUNTRY, \"analysis\": ANALYSIS_DESC}\n",
    "\n",
    "with open(output_html_path, \"w\", encoding=\"utf-8\") as output_file:\n",
    "    with open(input_template_path) as template_file:\n",
    "        j2_template = Template(template_file.read())\n",
    "        output_file.write(j2_template.render(plotly_jinja_data))"
   ]
  },
  {
   "cell_type": "code",
   "execution_count": null,
   "metadata": {},
   "outputs": [],
   "source": []
  }
 ],
 "metadata": {
  "kernelspec": {
   "display_name": "summer2",
   "language": "python",
   "name": "python3"
  },
  "language_info": {
   "codemirror_mode": {
    "name": "ipython",
    "version": 3
   },
   "file_extension": ".py",
   "mimetype": "text/x-python",
   "name": "python",
   "nbconvert_exporter": "python",
   "pygments_lexer": "ipython3",
   "version": "3.10.10"
  }
 },
 "nbformat": 4,
 "nbformat_minor": 2
}
